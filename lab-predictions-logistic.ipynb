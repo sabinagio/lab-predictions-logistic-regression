{
 "cells": [
  {
   "cell_type": "markdown",
   "metadata": {},
   "source": [
    "In order to optimize our inventory, we would like to know which films will be rented next month and we are asked to create a model to predict it.\n",
    "\n",
    "Firstly we'll connect to the **sakila** database:"
   ]
  },
  {
   "cell_type": "code",
   "execution_count": 3,
   "metadata": {},
   "outputs": [],
   "source": [
    "import pymysql\n",
    "from sqlalchemy import create_engine\n",
    "import pandas as pd\n",
    "import numpy as np\n",
    "import matplotlib.pyplot as plt\n",
    "import seaborn as sns\n",
    "import getpass  # To get the password without showing the input\n",
    "from sklearn.preprocessing import StandardScaler\n",
    "from sklearn.model_selection import train_test_split\n",
    "from sklearn.linear_model import LogisticRegression"
   ]
  },
  {
   "cell_type": "code",
   "execution_count": 26,
   "metadata": {},
   "outputs": [],
   "source": [
    "password = getpass.getpass('Get password')\n",
    "connection_string = 'mysql+pymysql://root:' + password + '@localhost/sakila'\n",
    "engine = create_engine(connection_string)"
   ]
  },
  {
   "cell_type": "markdown",
   "metadata": {},
   "source": [
    "1. Create a query or queries to extract the information you think may be relevant for building the prediction model. It should include some film features and some rental features.\n",
    "\n",
    "We might want to extract the **rental** and **film** tables to see what type of films are most rented by customer and stock appropriately."
   ]
  },
  {
   "cell_type": "code",
   "execution_count": 4,
   "metadata": {},
   "outputs": [],
   "source": [
    "query = '''SELECT * \n",
    "FROM rental \n",
    "LEFT JOIN inventory \n",
    "ON inventory.inventory_id = rental.inventory_id\n",
    "LEFT JOIN film \n",
    "ON inventory.film_id = film.film_id'''"
   ]
  },
  {
   "cell_type": "markdown",
   "metadata": {},
   "source": [
    "2. Read the data into a Pandas dataframe."
   ]
  },
  {
   "cell_type": "code",
   "execution_count": 5,
   "metadata": {},
   "outputs": [
    {
     "data": {
      "text/html": [
       "<div>\n",
       "<style scoped>\n",
       "    .dataframe tbody tr th:only-of-type {\n",
       "        vertical-align: middle;\n",
       "    }\n",
       "\n",
       "    .dataframe tbody tr th {\n",
       "        vertical-align: top;\n",
       "    }\n",
       "\n",
       "    .dataframe thead th {\n",
       "        text-align: right;\n",
       "    }\n",
       "</style>\n",
       "<table border=\"1\" class=\"dataframe\">\n",
       "  <thead>\n",
       "    <tr style=\"text-align: right;\">\n",
       "      <th></th>\n",
       "      <th>rental_id</th>\n",
       "      <th>rental_date</th>\n",
       "      <th>inventory_id</th>\n",
       "      <th>customer_id</th>\n",
       "      <th>return_date</th>\n",
       "      <th>staff_id</th>\n",
       "      <th>last_update</th>\n",
       "      <th>inventory_id</th>\n",
       "      <th>film_id</th>\n",
       "      <th>store_id</th>\n",
       "      <th>...</th>\n",
       "      <th>release_year</th>\n",
       "      <th>language_id</th>\n",
       "      <th>original_language_id</th>\n",
       "      <th>rental_duration</th>\n",
       "      <th>rental_rate</th>\n",
       "      <th>length</th>\n",
       "      <th>replacement_cost</th>\n",
       "      <th>rating</th>\n",
       "      <th>special_features</th>\n",
       "      <th>last_update</th>\n",
       "    </tr>\n",
       "  </thead>\n",
       "  <tbody>\n",
       "    <tr>\n",
       "      <th>0</th>\n",
       "      <td>1</td>\n",
       "      <td>2005-05-24 22:53:30</td>\n",
       "      <td>367</td>\n",
       "      <td>130</td>\n",
       "      <td>2005-05-26 22:04:30</td>\n",
       "      <td>1</td>\n",
       "      <td>2006-02-15 21:30:53</td>\n",
       "      <td>367</td>\n",
       "      <td>80</td>\n",
       "      <td>1</td>\n",
       "      <td>...</td>\n",
       "      <td>2006</td>\n",
       "      <td>1</td>\n",
       "      <td>None</td>\n",
       "      <td>7</td>\n",
       "      <td>2.99</td>\n",
       "      <td>148</td>\n",
       "      <td>21.99</td>\n",
       "      <td>G</td>\n",
       "      <td>Trailers</td>\n",
       "      <td>2006-02-15 05:03:42</td>\n",
       "    </tr>\n",
       "    <tr>\n",
       "      <th>1</th>\n",
       "      <td>2</td>\n",
       "      <td>2005-05-24 22:54:33</td>\n",
       "      <td>1525</td>\n",
       "      <td>459</td>\n",
       "      <td>2005-05-28 19:40:33</td>\n",
       "      <td>1</td>\n",
       "      <td>2006-02-15 21:30:53</td>\n",
       "      <td>1525</td>\n",
       "      <td>333</td>\n",
       "      <td>2</td>\n",
       "      <td>...</td>\n",
       "      <td>2006</td>\n",
       "      <td>1</td>\n",
       "      <td>None</td>\n",
       "      <td>7</td>\n",
       "      <td>2.99</td>\n",
       "      <td>126</td>\n",
       "      <td>16.99</td>\n",
       "      <td>R</td>\n",
       "      <td>Trailers,Behind the Scenes</td>\n",
       "      <td>2006-02-15 05:03:42</td>\n",
       "    </tr>\n",
       "    <tr>\n",
       "      <th>2</th>\n",
       "      <td>3</td>\n",
       "      <td>2005-05-24 23:03:39</td>\n",
       "      <td>1711</td>\n",
       "      <td>408</td>\n",
       "      <td>2005-06-01 22:12:39</td>\n",
       "      <td>1</td>\n",
       "      <td>2006-02-15 21:30:53</td>\n",
       "      <td>1711</td>\n",
       "      <td>373</td>\n",
       "      <td>2</td>\n",
       "      <td>...</td>\n",
       "      <td>2006</td>\n",
       "      <td>1</td>\n",
       "      <td>None</td>\n",
       "      <td>7</td>\n",
       "      <td>2.99</td>\n",
       "      <td>156</td>\n",
       "      <td>14.99</td>\n",
       "      <td>G</td>\n",
       "      <td>Trailers,Behind the Scenes</td>\n",
       "      <td>2006-02-15 05:03:42</td>\n",
       "    </tr>\n",
       "    <tr>\n",
       "      <th>3</th>\n",
       "      <td>4</td>\n",
       "      <td>2005-05-24 23:04:41</td>\n",
       "      <td>2452</td>\n",
       "      <td>333</td>\n",
       "      <td>2005-06-03 01:43:41</td>\n",
       "      <td>2</td>\n",
       "      <td>2006-02-15 21:30:53</td>\n",
       "      <td>2452</td>\n",
       "      <td>535</td>\n",
       "      <td>1</td>\n",
       "      <td>...</td>\n",
       "      <td>2006</td>\n",
       "      <td>1</td>\n",
       "      <td>None</td>\n",
       "      <td>6</td>\n",
       "      <td>0.99</td>\n",
       "      <td>181</td>\n",
       "      <td>21.99</td>\n",
       "      <td>R</td>\n",
       "      <td>Trailers,Behind the Scenes</td>\n",
       "      <td>2006-02-15 05:03:42</td>\n",
       "    </tr>\n",
       "    <tr>\n",
       "      <th>4</th>\n",
       "      <td>5</td>\n",
       "      <td>2005-05-24 23:05:21</td>\n",
       "      <td>2079</td>\n",
       "      <td>222</td>\n",
       "      <td>2005-06-02 04:33:21</td>\n",
       "      <td>1</td>\n",
       "      <td>2006-02-15 21:30:53</td>\n",
       "      <td>2079</td>\n",
       "      <td>450</td>\n",
       "      <td>2</td>\n",
       "      <td>...</td>\n",
       "      <td>2006</td>\n",
       "      <td>1</td>\n",
       "      <td>None</td>\n",
       "      <td>5</td>\n",
       "      <td>2.99</td>\n",
       "      <td>84</td>\n",
       "      <td>29.99</td>\n",
       "      <td>NC-17</td>\n",
       "      <td>Trailers</td>\n",
       "      <td>2006-02-15 05:03:42</td>\n",
       "    </tr>\n",
       "  </tbody>\n",
       "</table>\n",
       "<p>5 rows × 24 columns</p>\n",
       "</div>"
      ],
      "text/plain": [
       "   rental_id         rental_date  inventory_id  customer_id  \\\n",
       "0          1 2005-05-24 22:53:30           367          130   \n",
       "1          2 2005-05-24 22:54:33          1525          459   \n",
       "2          3 2005-05-24 23:03:39          1711          408   \n",
       "3          4 2005-05-24 23:04:41          2452          333   \n",
       "4          5 2005-05-24 23:05:21          2079          222   \n",
       "\n",
       "          return_date  staff_id         last_update  inventory_id  film_id  \\\n",
       "0 2005-05-26 22:04:30         1 2006-02-15 21:30:53           367       80   \n",
       "1 2005-05-28 19:40:33         1 2006-02-15 21:30:53          1525      333   \n",
       "2 2005-06-01 22:12:39         1 2006-02-15 21:30:53          1711      373   \n",
       "3 2005-06-03 01:43:41         2 2006-02-15 21:30:53          2452      535   \n",
       "4 2005-06-02 04:33:21         1 2006-02-15 21:30:53          2079      450   \n",
       "\n",
       "   store_id  ... release_year  language_id original_language_id  \\\n",
       "0         1  ...         2006            1                 None   \n",
       "1         2  ...         2006            1                 None   \n",
       "2         2  ...         2006            1                 None   \n",
       "3         1  ...         2006            1                 None   \n",
       "4         2  ...         2006            1                 None   \n",
       "\n",
       "  rental_duration  rental_rate  length replacement_cost  rating  \\\n",
       "0               7         2.99     148            21.99       G   \n",
       "1               7         2.99     126            16.99       R   \n",
       "2               7         2.99     156            14.99       G   \n",
       "3               6         0.99     181            21.99       R   \n",
       "4               5         2.99      84            29.99   NC-17   \n",
       "\n",
       "             special_features         last_update  \n",
       "0                    Trailers 2006-02-15 05:03:42  \n",
       "1  Trailers,Behind the Scenes 2006-02-15 05:03:42  \n",
       "2  Trailers,Behind the Scenes 2006-02-15 05:03:42  \n",
       "3  Trailers,Behind the Scenes 2006-02-15 05:03:42  \n",
       "4                    Trailers 2006-02-15 05:03:42  \n",
       "\n",
       "[5 rows x 24 columns]"
      ]
     },
     "execution_count": 5,
     "metadata": {},
     "output_type": "execute_result"
    }
   ],
   "source": [
    "data = pd.read_sql_query(query, engine)\n",
    "data.head()"
   ]
  },
  {
   "cell_type": "code",
   "execution_count": 6,
   "metadata": {},
   "outputs": [
    {
     "data": {
      "text/plain": [
       "Index(['rental_id', 'rental_date', 'inventory_id', 'customer_id',\n",
       "       'return_date', 'staff_id', 'last_update', 'inventory_id', 'film_id',\n",
       "       'store_id', 'last_update', 'film_id', 'title', 'description',\n",
       "       'release_year', 'language_id', 'original_language_id',\n",
       "       'rental_duration', 'rental_rate', 'length', 'replacement_cost',\n",
       "       'rating', 'special_features', 'last_update'],\n",
       "      dtype='object')"
      ]
     },
     "execution_count": 6,
     "metadata": {},
     "output_type": "execute_result"
    }
   ],
   "source": [
    "# Check columns\n",
    "data.columns"
   ]
  },
  {
   "cell_type": "code",
   "execution_count": 7,
   "metadata": {},
   "outputs": [],
   "source": [
    "# Drop duplicate columns\n",
    "to_drop = ['film_id', 'inventory_id', 'last_update']\n",
    "data.drop(to_drop, axis=1, inplace=True)"
   ]
  },
  {
   "cell_type": "markdown",
   "metadata": {},
   "source": [
    "3. Analyze extracted features and transform them. You may need to encode some categorical variables, or scale numerical variables."
   ]
  },
  {
   "cell_type": "code",
   "execution_count": 8,
   "metadata": {},
   "outputs": [],
   "source": [
    "# Remove irrelevant features\n",
    "to_drop = ['store_id', 'staff_id', 'customer_id', 'rental_id', 'title', 'description']\n",
    "data.drop(to_drop, axis=1, inplace=True)"
   ]
  },
  {
   "cell_type": "code",
   "execution_count": 9,
   "metadata": {},
   "outputs": [
    {
     "data": {
      "text/html": [
       "<div>\n",
       "<style scoped>\n",
       "    .dataframe tbody tr th:only-of-type {\n",
       "        vertical-align: middle;\n",
       "    }\n",
       "\n",
       "    .dataframe tbody tr th {\n",
       "        vertical-align: top;\n",
       "    }\n",
       "\n",
       "    .dataframe thead th {\n",
       "        text-align: right;\n",
       "    }\n",
       "</style>\n",
       "<table border=\"1\" class=\"dataframe\">\n",
       "  <thead>\n",
       "    <tr style=\"text-align: right;\">\n",
       "      <th></th>\n",
       "      <th>rental_date</th>\n",
       "      <th>return_date</th>\n",
       "      <th>release_year</th>\n",
       "      <th>language_id</th>\n",
       "      <th>original_language_id</th>\n",
       "      <th>rental_duration</th>\n",
       "      <th>rental_rate</th>\n",
       "      <th>length</th>\n",
       "      <th>replacement_cost</th>\n",
       "      <th>rating</th>\n",
       "      <th>special_features</th>\n",
       "    </tr>\n",
       "  </thead>\n",
       "  <tbody>\n",
       "    <tr>\n",
       "      <th>0</th>\n",
       "      <td>2005-05-24 22:53:30</td>\n",
       "      <td>2005-05-26 22:04:30</td>\n",
       "      <td>2006</td>\n",
       "      <td>1</td>\n",
       "      <td>None</td>\n",
       "      <td>7</td>\n",
       "      <td>2.99</td>\n",
       "      <td>148</td>\n",
       "      <td>21.99</td>\n",
       "      <td>G</td>\n",
       "      <td>Trailers</td>\n",
       "    </tr>\n",
       "    <tr>\n",
       "      <th>1</th>\n",
       "      <td>2005-05-24 22:54:33</td>\n",
       "      <td>2005-05-28 19:40:33</td>\n",
       "      <td>2006</td>\n",
       "      <td>1</td>\n",
       "      <td>None</td>\n",
       "      <td>7</td>\n",
       "      <td>2.99</td>\n",
       "      <td>126</td>\n",
       "      <td>16.99</td>\n",
       "      <td>R</td>\n",
       "      <td>Trailers,Behind the Scenes</td>\n",
       "    </tr>\n",
       "    <tr>\n",
       "      <th>2</th>\n",
       "      <td>2005-05-24 23:03:39</td>\n",
       "      <td>2005-06-01 22:12:39</td>\n",
       "      <td>2006</td>\n",
       "      <td>1</td>\n",
       "      <td>None</td>\n",
       "      <td>7</td>\n",
       "      <td>2.99</td>\n",
       "      <td>156</td>\n",
       "      <td>14.99</td>\n",
       "      <td>G</td>\n",
       "      <td>Trailers,Behind the Scenes</td>\n",
       "    </tr>\n",
       "    <tr>\n",
       "      <th>3</th>\n",
       "      <td>2005-05-24 23:04:41</td>\n",
       "      <td>2005-06-03 01:43:41</td>\n",
       "      <td>2006</td>\n",
       "      <td>1</td>\n",
       "      <td>None</td>\n",
       "      <td>6</td>\n",
       "      <td>0.99</td>\n",
       "      <td>181</td>\n",
       "      <td>21.99</td>\n",
       "      <td>R</td>\n",
       "      <td>Trailers,Behind the Scenes</td>\n",
       "    </tr>\n",
       "    <tr>\n",
       "      <th>4</th>\n",
       "      <td>2005-05-24 23:05:21</td>\n",
       "      <td>2005-06-02 04:33:21</td>\n",
       "      <td>2006</td>\n",
       "      <td>1</td>\n",
       "      <td>None</td>\n",
       "      <td>5</td>\n",
       "      <td>2.99</td>\n",
       "      <td>84</td>\n",
       "      <td>29.99</td>\n",
       "      <td>NC-17</td>\n",
       "      <td>Trailers</td>\n",
       "    </tr>\n",
       "  </tbody>\n",
       "</table>\n",
       "</div>"
      ],
      "text/plain": [
       "          rental_date         return_date  release_year  language_id  \\\n",
       "0 2005-05-24 22:53:30 2005-05-26 22:04:30          2006            1   \n",
       "1 2005-05-24 22:54:33 2005-05-28 19:40:33          2006            1   \n",
       "2 2005-05-24 23:03:39 2005-06-01 22:12:39          2006            1   \n",
       "3 2005-05-24 23:04:41 2005-06-03 01:43:41          2006            1   \n",
       "4 2005-05-24 23:05:21 2005-06-02 04:33:21          2006            1   \n",
       "\n",
       "  original_language_id  rental_duration  rental_rate  length  \\\n",
       "0                 None                7         2.99     148   \n",
       "1                 None                7         2.99     126   \n",
       "2                 None                7         2.99     156   \n",
       "3                 None                6         0.99     181   \n",
       "4                 None                5         2.99      84   \n",
       "\n",
       "   replacement_cost rating            special_features  \n",
       "0             21.99      G                    Trailers  \n",
       "1             16.99      R  Trailers,Behind the Scenes  \n",
       "2             14.99      G  Trailers,Behind the Scenes  \n",
       "3             21.99      R  Trailers,Behind the Scenes  \n",
       "4             29.99  NC-17                    Trailers  "
      ]
     },
     "execution_count": 9,
     "metadata": {},
     "output_type": "execute_result"
    }
   ],
   "source": [
    "data.head()"
   ]
  },
  {
   "cell_type": "code",
   "execution_count": 19,
   "metadata": {},
   "outputs": [
    {
     "data": {
      "text/plain": [
       "[]"
      ]
     },
     "execution_count": 19,
     "metadata": {},
     "output_type": "execute_result"
    }
   ],
   "source": [
    "# Check unique values across columns\n",
    "def check_unique_values(df):\n",
    "    single_value_columns = []\n",
    "    for column in df:\n",
    "        if len(df[column].unique()) == 1:\n",
    "            single_value_columns.append(column)\n",
    "    return single_value_columns\n",
    "\n",
    "check_unique_values(data)"
   ]
  },
  {
   "cell_type": "code",
   "execution_count": 12,
   "metadata": {},
   "outputs": [],
   "source": [
    "# Remove release_year, language_id, and original_language_id\n",
    "to_drop = ['release_year', 'language_id', 'original_language_id']\n",
    "data.drop(to_drop, axis=1, inplace=True)"
   ]
  },
  {
   "cell_type": "code",
   "execution_count": 17,
   "metadata": {},
   "outputs": [
    {
     "data": {
      "text/plain": [
       "{}"
      ]
     },
     "execution_count": 17,
     "metadata": {},
     "output_type": "execute_result"
    }
   ],
   "source": [
    "# Check null values in data\n",
    "def check_null_values(df, threshold=75):\n",
    "    nulls_percentage = {}\n",
    "    for column in df.columns:\n",
    "        number_of_nulls = df[column].isna().sum()\n",
    "        null_percentage = round(number_of_nulls * 100 / df.shape[0], 1)\n",
    "        if null_percentage >= threshold:\n",
    "            nulls_percentage[column] = null_percentage\n",
    "    return nulls_percentage\n",
    "\n",
    "check_null_values(data)"
   ]
  },
  {
   "cell_type": "code",
   "execution_count": 25,
   "metadata": {},
   "outputs": [
    {
     "data": {
      "text/plain": [
       "0.0"
      ]
     },
     "execution_count": 25,
     "metadata": {},
     "output_type": "execute_result"
    }
   ],
   "source": [
    "# Check maximum null values in a dataframe column\n",
    "def max_nulls(df):\n",
    "    nulls_percentage = []\n",
    "    for column in df.columns:\n",
    "        number_of_nulls = df[column].isna().sum()\n",
    "        null_percentage = round(number_of_nulls * 100 / df.shape[0], 1)\n",
    "        nulls_percentage.append(null_percentage)\n",
    "    return max(nulls_percentage)\n",
    "\n",
    "max_nulls(data)"
   ]
  },
  {
   "cell_type": "code",
   "execution_count": 24,
   "metadata": {},
   "outputs": [
    {
     "data": {
      "text/plain": [
       "0.0"
      ]
     },
     "execution_count": 24,
     "metadata": {},
     "output_type": "execute_result"
    }
   ],
   "source": [
    "# Check null values per row\n",
    "def max_nulls_rows(df):\n",
    "    nulls_percentage = []\n",
    "    for index in df.index:\n",
    "        number_of_nulls = df.loc[index,].isna().sum()\n",
    "        null_percentage = round(number_of_nulls * 100 / df.shape[1], 1)\n",
    "        nulls_percentage.append(null_percentage)\n",
    "    return max(nulls_percentage)\n",
    "\n",
    "max_nulls_rows(data)"
   ]
  },
  {
   "cell_type": "code",
   "execution_count": 23,
   "metadata": {},
   "outputs": [],
   "source": [
    "# Check number of null values\n",
    "for col in data.columns:\n",
    "    if data[col].isna().sum() != 0:\n",
    "        print(col, \":\", round((data[col].isna().sum()) * 100 / data.shape[0], 0),\"%\")"
   ]
  },
  {
   "cell_type": "code",
   "execution_count": 22,
   "metadata": {},
   "outputs": [],
   "source": [
    "# As return_date is the only column which still has NaN values, we can remove\n",
    "# drop all of the rows, as we won't lose more than 1% of data\n",
    "data = data.dropna()"
   ]
  },
  {
   "cell_type": "markdown",
   "metadata": {},
   "source": [
    "4. Create a query to get the list of films and a boolean indicating if it was rented last month. This would be our target variable."
   ]
  },
  {
   "cell_type": "code",
   "execution_count": 13,
   "metadata": {},
   "outputs": [
    {
     "data": {
      "text/plain": [
       "dtype('<M8[ns]')"
      ]
     },
     "execution_count": 13,
     "metadata": {},
     "output_type": "execute_result"
    }
   ],
   "source": [
    "# Check the column data type\n",
    "data.rental_date.dtype"
   ]
  },
  {
   "cell_type": "code",
   "execution_count": 14,
   "metadata": {},
   "outputs": [
    {
     "data": {
      "text/plain": [
       "pandas._libs.tslibs.timestamps.Timestamp"
      ]
     },
     "execution_count": 14,
     "metadata": {},
     "output_type": "execute_result"
    }
   ],
   "source": [
    "# Check the entries data type\n",
    "type(data.rental_date[0])"
   ]
  },
  {
   "cell_type": "code",
   "execution_count": 15,
   "metadata": {},
   "outputs": [
    {
     "data": {
      "text/plain": [
       "Timestamp('2006-02-14 15:16:03')"
      ]
     },
     "execution_count": 15,
     "metadata": {},
     "output_type": "execute_result"
    }
   ],
   "source": [
    "# Check the last month a movie was rented\n",
    "max(data.rental_date)"
   ]
  },
  {
   "cell_type": "code",
   "execution_count": 16,
   "metadata": {},
   "outputs": [
    {
     "data": {
      "text/html": [
       "<div>\n",
       "<style scoped>\n",
       "    .dataframe tbody tr th:only-of-type {\n",
       "        vertical-align: middle;\n",
       "    }\n",
       "\n",
       "    .dataframe tbody tr th {\n",
       "        vertical-align: top;\n",
       "    }\n",
       "\n",
       "    .dataframe thead th {\n",
       "        text-align: right;\n",
       "    }\n",
       "</style>\n",
       "<table border=\"1\" class=\"dataframe\">\n",
       "  <thead>\n",
       "    <tr style=\"text-align: right;\">\n",
       "      <th></th>\n",
       "      <th>rental_date</th>\n",
       "      <th>return_date</th>\n",
       "      <th>rental_duration</th>\n",
       "      <th>rental_rate</th>\n",
       "      <th>length</th>\n",
       "      <th>replacement_cost</th>\n",
       "      <th>rating</th>\n",
       "      <th>special_features</th>\n",
       "      <th>last_month_rental</th>\n",
       "    </tr>\n",
       "  </thead>\n",
       "  <tbody>\n",
       "    <tr>\n",
       "      <th>15635</th>\n",
       "      <td>2005-08-23 22:25:26</td>\n",
       "      <td>2005-08-25 23:54:26</td>\n",
       "      <td>5</td>\n",
       "      <td>0.99</td>\n",
       "      <td>67</td>\n",
       "      <td>23.99</td>\n",
       "      <td>R</td>\n",
       "      <td>Trailers,Behind the Scenes</td>\n",
       "      <td>False</td>\n",
       "    </tr>\n",
       "    <tr>\n",
       "      <th>15636</th>\n",
       "      <td>2005-08-23 22:26:47</td>\n",
       "      <td>2005-08-27 18:02:47</td>\n",
       "      <td>6</td>\n",
       "      <td>0.99</td>\n",
       "      <td>78</td>\n",
       "      <td>28.99</td>\n",
       "      <td>PG-13</td>\n",
       "      <td>Commentaries,Behind the Scenes</td>\n",
       "      <td>False</td>\n",
       "    </tr>\n",
       "    <tr>\n",
       "      <th>15637</th>\n",
       "      <td>2005-08-23 22:42:48</td>\n",
       "      <td>2005-08-25 02:48:48</td>\n",
       "      <td>4</td>\n",
       "      <td>0.99</td>\n",
       "      <td>122</td>\n",
       "      <td>15.99</td>\n",
       "      <td>R</td>\n",
       "      <td>Commentaries,Behind the Scenes</td>\n",
       "      <td>False</td>\n",
       "    </tr>\n",
       "    <tr>\n",
       "      <th>15638</th>\n",
       "      <td>2005-08-23 22:43:07</td>\n",
       "      <td>2005-08-31 21:33:07</td>\n",
       "      <td>4</td>\n",
       "      <td>4.99</td>\n",
       "      <td>151</td>\n",
       "      <td>28.99</td>\n",
       "      <td>PG-13</td>\n",
       "      <td>Trailers,Deleted Scenes</td>\n",
       "      <td>False</td>\n",
       "    </tr>\n",
       "    <tr>\n",
       "      <th>15639</th>\n",
       "      <td>2005-08-23 22:50:12</td>\n",
       "      <td>2005-08-30 01:01:12</td>\n",
       "      <td>4</td>\n",
       "      <td>0.99</td>\n",
       "      <td>105</td>\n",
       "      <td>25.99</td>\n",
       "      <td>G</td>\n",
       "      <td>Trailers</td>\n",
       "      <td>False</td>\n",
       "    </tr>\n",
       "  </tbody>\n",
       "</table>\n",
       "</div>"
      ],
      "text/plain": [
       "              rental_date         return_date  rental_duration  rental_rate  \\\n",
       "15635 2005-08-23 22:25:26 2005-08-25 23:54:26                5         0.99   \n",
       "15636 2005-08-23 22:26:47 2005-08-27 18:02:47                6         0.99   \n",
       "15637 2005-08-23 22:42:48 2005-08-25 02:48:48                4         0.99   \n",
       "15638 2005-08-23 22:43:07 2005-08-31 21:33:07                4         4.99   \n",
       "15639 2005-08-23 22:50:12 2005-08-30 01:01:12                4         0.99   \n",
       "\n",
       "       length  replacement_cost rating                special_features  \\\n",
       "15635      67             23.99      R      Trailers,Behind the Scenes   \n",
       "15636      78             28.99  PG-13  Commentaries,Behind the Scenes   \n",
       "15637     122             15.99      R  Commentaries,Behind the Scenes   \n",
       "15638     151             28.99  PG-13         Trailers,Deleted Scenes   \n",
       "15639     105             25.99      G                        Trailers   \n",
       "\n",
       "       last_month_rental  \n",
       "15635              False  \n",
       "15636              False  \n",
       "15637              False  \n",
       "15638              False  \n",
       "15639              False  "
      ]
     },
     "execution_count": 16,
     "metadata": {},
     "output_type": "execute_result"
    }
   ],
   "source": [
    "# We'll use the last month (February 2006) as the reference month for this exercise\n",
    "data['last_month_rental'] = data['rental_date'].apply(lambda x: True if \\\n",
    "    str(x.to_period('M')) == '2006-02' else False)\n",
    "\n",
    "data.tail()"
   ]
  },
  {
   "cell_type": "markdown",
   "metadata": {},
   "source": [
    "5. Create a logistic regression model to predict this variable from the cleaned data."
   ]
  },
  {
   "cell_type": "code",
   "execution_count": null,
   "metadata": {},
   "outputs": [],
   "source": [
    "X = data.select_dtypes(include = np.number)\n",
    "\n",
    "transformer = StandardScaler().fit(X)\n",
    "x_normalized = transformer.transform(X)\n",
    "x = pd.DataFrame(x_normalized)\n",
    "x.columns = X.columns\n",
    "x.head()"
   ]
  },
  {
   "cell_type": "code",
   "execution_count": null,
   "metadata": {},
   "outputs": [],
   "source": [
    "cat = data.select_dtypes(include = np.object)\n",
    "cat = cat.drop(['status'], axis=1)\n",
    "categorical = pd.get_dummies(cat, columns=['type', 'operation', 'k_symbol', 'duration'])"
   ]
  },
  {
   "cell_type": "code",
   "execution_count": null,
   "metadata": {},
   "outputs": [],
   "source": [
    "y = data['status'] # Target appart\n",
    "X = np.concatenate((x, categorical), axis=1) # Numerical and dummies from categoricals"
   ]
  },
  {
   "cell_type": "code",
   "execution_count": null,
   "metadata": {},
   "outputs": [],
   "source": [
    "# We separate training and testing datasets and correspondant targets\n",
    "X_train, X_test, y_train, y_test = train_test_split(X, y, test_size=0.3, random_state=100)"
   ]
  },
  {
   "cell_type": "code",
   "execution_count": null,
   "metadata": {},
   "outputs": [],
   "source": [
    "# We traing the training dataset using Logistic Regression (multiclass classification)\n",
    "classification = LogisticRegression(random_state=0, multi_class='multinomial').fit(X_train, y_train)"
   ]
  },
  {
   "cell_type": "code",
   "execution_count": null,
   "metadata": {},
   "outputs": [],
   "source": [
    "# We predict on the testing dataset\n",
    "predictions = classification.predict(X_test)"
   ]
  },
  {
   "cell_type": "markdown",
   "metadata": {},
   "source": [
    "6. Evaluate the results."
   ]
  },
  {
   "cell_type": "code",
   "execution_count": null,
   "metadata": {},
   "outputs": [],
   "source": [
    "pd.Series(predictions).value_counts()"
   ]
  },
  {
   "cell_type": "code",
   "execution_count": null,
   "metadata": {},
   "outputs": [],
   "source": [
    "y_test.value_counts()"
   ]
  },
  {
   "cell_type": "code",
   "execution_count": null,
   "metadata": {},
   "outputs": [],
   "source": [
    "from sklearn.metrics import confusion_matrix\n",
    "confusion_matrix(y_test, predictions)"
   ]
  },
  {
   "cell_type": "code",
   "execution_count": null,
   "metadata": {},
   "outputs": [],
   "source": [
    "from sklearn.metrics import confusion_matrix\n",
    "cm = confusion_matrix(y_test, predictions)\n",
    "sns.heatmap(cm, annot=True,fmt='g')\n",
    "plt.subplot().xaxis.set_ticklabels([\"A\",\"B\",\"C\",\"D\"])\n",
    "plt.subplot().yaxis.set_ticklabels([\"A\",\"B\",\"C\",\"D\"])"
   ]
  }
 ],
 "metadata": {
  "interpreter": {
   "hash": "916dbcbb3f70747c44a77c7bcd40155683ae19c65e1c03b4aa3499c5328201f1"
  },
  "kernelspec": {
   "display_name": "Python 3.8.10 64-bit",
   "language": "python",
   "name": "python3"
  },
  "language_info": {
   "codemirror_mode": {
    "name": "ipython",
    "version": 3
   },
   "file_extension": ".py",
   "mimetype": "text/x-python",
   "name": "python",
   "nbconvert_exporter": "python",
   "pygments_lexer": "ipython3",
   "version": "3.8.10"
  },
  "orig_nbformat": 4
 },
 "nbformat": 4,
 "nbformat_minor": 2
}
